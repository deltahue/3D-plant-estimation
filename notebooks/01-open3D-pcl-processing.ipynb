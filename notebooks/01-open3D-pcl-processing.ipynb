{
 "cells": [
  {
   "cell_type": "markdown",
   "id": "israeli-guide",
   "metadata": {},
   "source": [
    "# Open3D Showcase\n",
    "\n",
    "The intention for this notebook is to showcase functionalities of the Open3D library which could be useful for the 3D plant estimation project.\n",
    "\n",
    "Author: David Helm"
   ]
  },
  {
   "cell_type": "code",
   "execution_count": 1,
   "id": "rotary-growing",
   "metadata": {},
   "outputs": [],
   "source": [
    "import open3d as o3d\n",
    "import numpy as np\n",
    "import matplotlib.pyplot as plt\n",
    "%matplotlib inline"
   ]
  },
  {
   "cell_type": "markdown",
   "id": "unsigned-plain",
   "metadata": {},
   "source": [
    "### Reading Point Clouds"
   ]
  },
  {
   "cell_type": "code",
   "execution_count": 15,
   "id": "outer-manual",
   "metadata": {},
   "outputs": [],
   "source": [
    "pcd = o3d.io.read_point_cloud(\"../data/processed/init_testing/pot01_opensfm.ply\", format='xyzn')"
   ]
  },
  {
   "cell_type": "code",
   "execution_count": 26,
   "id": "arbitrary-nightmare",
   "metadata": {},
   "outputs": [
    {
     "name": "stdout",
     "output_type": "stream",
     "text": [
      "<class 'open3d.cpu.pybind.geometry.PointCloud'>\n",
      "[]\n"
     ]
    }
   ],
   "source": [
    "print(type(pcd))\n",
    "print(np.asarray(pcd.colors))"
   ]
  },
  {
   "cell_type": "markdown",
   "id": "curious-volume",
   "metadata": {},
   "source": [
    "### Visualizing a Point Cloud\n",
    "\n",
    "The visualization settings can be left blank, in this case the viewer chooses an ok position by itself."
   ]
  },
  {
   "cell_type": "code",
   "execution_count": null,
   "id": "celtic-construction",
   "metadata": {},
   "outputs": [],
   "source": [
    "# vis settings:\n",
    "zoom=0.4812\n",
    "front=[ -0.026201836443756708, -0.053754127166582288, 0.99821037741526886 ]\n",
    "lookat=[ 0.94675979736194682, 0.31918421391035429, 0.042039549112648671 ]\n",
    "up=[-0.0694, -0.9768, 0.2024]\n",
    "# visualize point cloud\n",
    "o3d.visualization.draw_geometries([pcd],\n",
    "                                  zoom=zoom,\n",
    "                                  front=front,\n",
    "                                  lookat=lookat,\n",
    "                                  up=up)"
   ]
  },
  {
   "cell_type": "code",
   "execution_count": 5,
   "id": "thorough-escape",
   "metadata": {},
   "outputs": [],
   "source": [
    "o3d.visualization.draw_geometries([pcd])"
   ]
  },
  {
   "cell_type": "markdown",
   "id": "blank-penetration",
   "metadata": {},
   "source": [
    "## Processing\n",
    "In the next steps some processing functions are shown\n",
    "\n",
    "### Voxel Downsampling\n"
   ]
  },
  {
   "cell_type": "code",
   "execution_count": 6,
   "id": "bearing-leave",
   "metadata": {},
   "outputs": [],
   "source": [
    "# voxel downsampling\n",
    "downpcd = pcd.voxel_down_sample(voxel_size=0.05)\n",
    "o3d.visualization.draw_geometries([downpcd])"
   ]
  },
  {
   "cell_type": "markdown",
   "id": "identified-activity",
   "metadata": {},
   "source": [
    "### DBSCAN"
   ]
  },
  {
   "cell_type": "code",
   "execution_count": 7,
   "id": "lined-organic",
   "metadata": {},
   "outputs": [
    {
     "name": "stdout",
     "output_type": "stream",
     "text": [
      "[Open3D DEBUG] Precompute Neighbours\n",
      "[Open3D DEBUG] Done Precompute Neighbours\n",
      "[Open3D DEBUG] Compute Clusters\n",
      "[Open3D DEBUG] Done Compute Clusters: 87\n",
      "point cloud has 87 clusters\n"
     ]
    }
   ],
   "source": [
    "# todo: make this function--> dbscan(pcd)\n",
    "pcd_dbscan = pcd\n",
    "with o3d.utility.VerbosityContextManager(\n",
    "        o3d.utility.VerbosityLevel.Debug) as cm:\n",
    "    labels = np.array(\n",
    "        pcd_dbscan.cluster_dbscan(eps=0.02, min_points=80,print_progress=True))\n",
    "\n",
    "max_label = labels.max()\n",
    "print(f\"point cloud has {max_label + 1} clusters\")\n",
    "colors = plt.get_cmap(\"tab20\")(labels / (max_label if max_label > 0 else 1))\n",
    "colors[labels < 0] = 0\n",
    "pcd_dbscan.colors = o3d.utility.Vector3dVector(colors[:, :3])\n"
   ]
  },
  {
   "cell_type": "code",
   "execution_count": 8,
   "id": "sized-vault",
   "metadata": {},
   "outputs": [],
   "source": [
    "o3d.visualization.draw_geometries([pcd_dbscan])"
   ]
  },
  {
   "cell_type": "markdown",
   "id": "united-verse",
   "metadata": {},
   "source": [
    "### outlier removal\n",
    "Open3D provides multiple outlier removal techniques:\n",
    "- Statistical Outlier Removal\n",
    "- Radius Outlier Removal\n"
   ]
  },
  {
   "cell_type": "code",
   "execution_count": 55,
   "id": "brilliant-updating",
   "metadata": {},
   "outputs": [
    {
     "name": "stdout",
     "output_type": "stream",
     "text": [
      "Load a ply point cloud, print it, and render it\n",
      "Downsample the point cloud with a voxel of 0.02\n"
     ]
    }
   ],
   "source": [
    "# input\n",
    "print(\"Load a ply point cloud, print it, and render it\")\n",
    "pcd = o3d.io.read_point_cloud(\"../data/processed/init_testing/pot01_opensfm.ply\")\n",
    "o3d.visualization.draw_geometries([pcd])\n",
    "\n",
    "print(\"Downsample the point cloud with a voxel of 0.02\")\n",
    "voxel_down_pcd = pcd.voxel_down_sample(voxel_size=0.002)\n",
    "o3d.visualization.draw_geometries([voxel_down_pcd])"
   ]
  },
  {
   "cell_type": "code",
   "execution_count": 60,
   "id": "incredible-keeping",
   "metadata": {},
   "outputs": [],
   "source": [
    "# helper\n",
    "def display_inlier_outlier(cloud, ind):\n",
    "    inlier_cloud = cloud.select_by_index(ind)\n",
    "    outlier_cloud = cloud.select_by_index(ind, invert=True)\n",
    "\n",
    "    print(\"Showing outliers (red) and inliers (green): \")\n",
    "    outlier_cloud.paint_uniform_color([1, 0, 0])\n",
    "    inlier_cloud.paint_uniform_color([0, 1, 0])\n",
    "    o3d.visualization.draw_geometries([inlier_cloud, outlier_cloud])"
   ]
  },
  {
   "cell_type": "markdown",
   "id": "distant-financing",
   "metadata": {},
   "source": [
    "### Statistical outlier removal"
   ]
  },
  {
   "cell_type": "code",
   "execution_count": 61,
   "id": "incomplete-hundred",
   "metadata": {},
   "outputs": [
    {
     "name": "stdout",
     "output_type": "stream",
     "text": [
      "Statistical oulier removal\n",
      "Showing outliers (red) and inliers (green): \n"
     ]
    }
   ],
   "source": [
    "print(\"Statistical oulier removal\")\n",
    "cl, ind = voxel_down_pcd.remove_statistical_outlier(nb_neighbors=20,\n",
    "                                                    std_ratio=2.0)\n",
    "display_inlier_outlier(voxel_down_pcd, ind)"
   ]
  },
  {
   "cell_type": "code",
   "execution_count": 62,
   "id": "controlled-appendix",
   "metadata": {},
   "outputs": [],
   "source": [
    "inlier_cloud = voxel_down_pcd.select_by_index(ind)"
   ]
  },
  {
   "cell_type": "code",
   "execution_count": null,
   "id": "cleared-teacher",
   "metadata": {},
   "outputs": [],
   "source": []
  },
  {
   "cell_type": "markdown",
   "id": "killing-fever",
   "metadata": {},
   "source": [
    "### Radius outlier removal"
   ]
  },
  {
   "cell_type": "code",
   "execution_count": 67,
   "id": "considerable-finland",
   "metadata": {},
   "outputs": [
    {
     "name": "stdout",
     "output_type": "stream",
     "text": [
      "Radius oulier removal\n",
      "Showing outliers (red) and inliers (green): \n"
     ]
    }
   ],
   "source": [
    "print(\"Radius oulier removal\")\n",
    "cl, ind = voxel_down_pcd.remove_radius_outlier(nb_points=16, radius=0.05)\n",
    "display_inlier_outlier(voxel_down_pcd, ind)\n",
    "radius_inlier_cloud = voxel_down_pcd.select_by_index(ind)"
   ]
  },
  {
   "cell_type": "markdown",
   "id": "attractive-malawi",
   "metadata": {},
   "source": [
    "## Surface Reconstruction\n",
    "http://www.open3d.org/docs/release/tutorial/geometry/surface_reconstruction.html"
   ]
  },
  {
   "cell_type": "markdown",
   "id": "violent-namibia",
   "metadata": {},
   "source": [
    "## Ball Pivoting"
   ]
  },
  {
   "cell_type": "code",
   "execution_count": null,
   "id": "national-oriental",
   "metadata": {},
   "outputs": [],
   "source": [
    "radii = [0.01, 0.02, 0.04]\n",
    "reconstruction_mesh = o3d.geometry.TriangleMesh.create_from_point_cloud_ball_pivoting(\n",
    "    radius_inlier_cloud, o3d.utility.DoubleVector(radii))\n",
    "o3d.visualization.draw_geometries([radius_inlier_cloud, reconstruction_mesh])"
   ]
  },
  {
   "cell_type": "code",
   "execution_count": null,
   "id": "colonial-terrace",
   "metadata": {},
   "outputs": [],
   "source": [
    "o3d.visualization.draw_geometries([reconstruction_mesh])"
   ]
  },
  {
   "cell_type": "code",
   "execution_count": null,
   "id": "renewable-passenger",
   "metadata": {},
   "outputs": [],
   "source": []
  }
 ],
 "metadata": {
  "kernelspec": {
   "display_name": "Python [conda env:PlantEst] *",
   "language": "python",
   "name": "conda-env-PlantEst-py"
  },
  "language_info": {
   "codemirror_mode": {
    "name": "ipython",
    "version": 3
   },
   "file_extension": ".py",
   "mimetype": "text/x-python",
   "name": "python",
   "nbconvert_exporter": "python",
   "pygments_lexer": "ipython3",
   "version": "3.8.8"
  }
 },
 "nbformat": 4,
 "nbformat_minor": 5
}
