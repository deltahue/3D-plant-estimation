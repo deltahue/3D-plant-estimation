{
 "cells": [
  {
   "cell_type": "code",
   "execution_count": 1,
   "id": "coated-scope",
   "metadata": {},
   "outputs": [],
   "source": [
    "import open3d as o3d\n",
    "import numpy as np\n",
    "import matplotlib.pyplot as plt\n",
    "import time\n",
    "\n",
    "from sklearn.cluster import DBSCAN"
   ]
  },
  {
   "cell_type": "markdown",
   "id": "earlier-canada",
   "metadata": {},
   "source": [
    "# Obj file clustering"
   ]
  },
  {
   "cell_type": "code",
   "execution_count": 2,
   "id": "renewable-omaha",
   "metadata": {},
   "outputs": [],
   "source": [
    "# DBSCAN with color. It says 4D put can also handle 6D (such as RGB, HSV etc)\n",
    "def dbscan_4D(point_cloud, point_cloud_4D, eps, mp, debug=False):\n",
    "    with o3d.utility.VerbosityContextManager(\n",
    "            o3d.utility.VerbosityLevel.Debug) as cm:\n",
    "        \n",
    "        clustering = DBSCAN(eps=eps, min_samples=mp).fit(point_cloud_4D)\n",
    "        labels = clustering.labels_\n",
    "\n",
    "    max_label = labels.max()\n",
    "    print(f\"point cloud has {max_label + 1} clusters\")\n",
    "    colors = plt.get_cmap(\"tab20\")(labels / (max_label if max_label > 0 else 1))\n",
    "    colors[labels < 0] = 0\n",
    "    point_cloud.colors = o3d.utility.Vector3dVector(colors[:, :3])\n",
    "\n",
    "    return point_cloud, labels"
   ]
  },
  {
   "cell_type": "code",
   "execution_count": 3,
   "id": "considered-address",
   "metadata": {},
   "outputs": [
    {
     "name": "stdout",
     "output_type": "stream",
     "text": [
      "20205\n"
     ]
    }
   ],
   "source": [
    "#pc = o3d.io.read_point_cloud('../../3D-data/cropped_pcd_smaller_downsampled_and_filtered_rad20.ply')\n",
    "pc = o3d.io.read_point_cloud('../../3D-data/cropped_pcd_filtered_rad20_0p1_nopot.ply')\n",
    "pc = pc.uniform_down_sample(every_k_points=int(len(np.asarray(pc.points))/20000))\n",
    "print(len(np.asarray(pc.points)))\n",
    "o3d.visualization.draw_geometries([pc], window_name='t')"
   ]
  },
  {
   "cell_type": "code",
   "execution_count": 4,
   "id": "plain-paint",
   "metadata": {},
   "outputs": [
    {
     "name": "stdout",
     "output_type": "stream",
     "text": [
      "5876898\n"
     ]
    }
   ],
   "source": [
    "# New point cloud with color. Clustering can be performed once the cropped, filtered version is ready\n",
    "'''\n",
    "pc = o3d.io.read_point_cloud('../../3D-data/point_cloud_color.ply')\n",
    "print(len(np.asarray(pc.points)))\n",
    "o3d.visualization.draw_geometries([pc], window_name='t')\n",
    "'''"
   ]
  },
  {
   "cell_type": "code",
   "execution_count": 4,
   "id": "adapted-manual",
   "metadata": {},
   "outputs": [],
   "source": [
    "pc_colors = np.asarray(pc.colors)[:,0]\n",
    "pc_4D = np.c_[np.asarray(pc.points), pc_colors]  "
   ]
  },
  {
   "cell_type": "code",
   "execution_count": 5,
   "id": "complete-portland",
   "metadata": {
    "scrolled": true
   },
   "outputs": [
    {
     "name": "stdout",
     "output_type": "stream",
     "text": [
      "Sun Apr 18 18:30:50 2021\n",
      "0 0\n",
      "point cloud has 20205 clusters\n",
      "0 1\n",
      "point cloud has 0 clusters\n",
      "0 2\n",
      "point cloud has 0 clusters\n",
      "0 3\n",
      "point cloud has 0 clusters\n",
      "0 4\n",
      "point cloud has 0 clusters\n",
      "0 5\n",
      "point cloud has 0 clusters\n",
      "1 0\n",
      "point cloud has 20205 clusters\n",
      "1 1\n",
      "point cloud has 0 clusters\n",
      "1 2\n",
      "point cloud has 0 clusters\n",
      "1 3\n",
      "point cloud has 0 clusters\n",
      "1 4\n",
      "point cloud has 0 clusters\n",
      "1 5\n",
      "point cloud has 0 clusters\n",
      "2 0\n",
      "point cloud has 20037 clusters\n",
      "2 1\n",
      "point cloud has 168 clusters\n",
      "2 2\n",
      "point cloud has 0 clusters\n",
      "2 3\n",
      "point cloud has 0 clusters\n",
      "2 4\n",
      "point cloud has 0 clusters\n",
      "2 5\n",
      "point cloud has 0 clusters\n",
      "3 0\n",
      "point cloud has 171 clusters\n",
      "3 1\n",
      "point cloud has 85 clusters\n",
      "3 2\n",
      "point cloud has 43 clusters\n",
      "3 3\n",
      "point cloud has 35 clusters\n",
      "3 4\n",
      "point cloud has 27 clusters\n",
      "3 5\n",
      "point cloud has 23 clusters\n",
      "4 0\n",
      "point cloud has 3 clusters\n",
      "4 1\n",
      "point cloud has 3 clusters\n",
      "4 2\n",
      "point cloud has 3 clusters\n",
      "4 3\n",
      "point cloud has 3 clusters\n",
      "4 4\n",
      "point cloud has 3 clusters\n",
      "4 5\n",
      "point cloud has 2 clusters\n",
      "Sun Apr 18 18:31:06 2021\n"
     ]
    }
   ],
   "source": [
    "ls_cluster =[]\n",
    "print(time.asctime())\n",
    "for i in range(5):\n",
    "    for j in range(6):\n",
    "        print(i, j)\n",
    "        ls_cluster.append(dbscan_4D(pc, pc_4D, 10**(i-4), 2**j))\n",
    "print(time.asctime())"
   ]
  },
  {
   "cell_type": "code",
   "execution_count": 6,
   "id": "sixth-trunk",
   "metadata": {},
   "outputs": [
    {
     "name": "stdout",
     "output_type": "stream",
     "text": [
      "point cloud has 23 clusters\n"
     ]
    }
   ],
   "source": [
    "i=3\n",
    "j=5\n",
    "clustered_pc, labels = dbscan_4D(pc, pc_4D, 10**(i-4), 2**j, False)\n",
    "o3d.visualization.draw_geometries([clustered_pc], window_name='t')"
   ]
  },
  {
   "cell_type": "code",
   "execution_count": 7,
   "id": "starting-depth",
   "metadata": {},
   "outputs": [],
   "source": [
    "# TODO: Extract individual leaves and generate mesh \n",
    "#(see https://github.com/deltahue/3D-plant-estimation/blob/shafthors/clean_mesh/src/outlier_removal.py)"
   ]
  }
 ],
 "metadata": {
  "kernelspec": {
   "display_name": "Python 3",
   "language": "python",
   "name": "python3"
  },
  "language_info": {
   "codemirror_mode": {
    "name": "ipython",
    "version": 3
   },
   "file_extension": ".py",
   "mimetype": "text/x-python",
   "name": "python",
   "nbconvert_exporter": "python",
   "pygments_lexer": "ipython3",
   "version": "3.8.5"
  }
 },
 "nbformat": 4,
 "nbformat_minor": 5
}
