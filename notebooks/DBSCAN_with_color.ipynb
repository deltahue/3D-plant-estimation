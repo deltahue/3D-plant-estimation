{
 "cells": [
  {
   "cell_type": "code",
   "execution_count": 1,
   "id": "coated-scope",
   "metadata": {},
   "outputs": [],
   "source": [
    "import open3d as o3d\n",
    "import numpy as np\n",
    "import matplotlib.pyplot as plt\n",
    "import warnings\n",
    "import time\n",
    "\n",
    "from sklearn.cluster import DBSCAN"
   ]
  },
  {
   "cell_type": "markdown",
   "id": "earlier-canada",
   "metadata": {},
   "source": [
    "# Obj file clustering"
   ]
  },
  {
   "cell_type": "code",
   "execution_count": 8,
   "id": "renewable-omaha",
   "metadata": {},
   "outputs": [],
   "source": [
    "# clustering methods\n",
    "def dbscan_4D(point_cloud, point_cloud_4D, eps, mp, debug=False):\n",
    "    with o3d.utility.VerbosityContextManager(\n",
    "            o3d.utility.VerbosityLevel.Debug) as cm:\n",
    "        \n",
    "        clustering = DBSCAN(eps=eps, min_samples=mp).fit(point_cloud_4D)\n",
    "        labels = clustering.labels_\n",
    "\n",
    "    max_label = labels.max()\n",
    "    print(f\"point cloud has {max_label + 1} clusters\")\n",
    "    colors = plt.get_cmap(\"tab20\")(labels / (max_label if max_label > 0 else 1))\n",
    "    colors[labels < 0] = 0\n",
    "    point_cloud.colors = o3d.utility.Vector3dVector(colors[:, :3])\n",
    "\n",
    "    return point_cloud, labels"
   ]
  },
  {
   "cell_type": "code",
   "execution_count": 3,
   "id": "considered-address",
   "metadata": {},
   "outputs": [
    {
     "name": "stdout",
     "output_type": "stream",
     "text": [
      "20205\n"
     ]
    }
   ],
   "source": [
    "#pc = o3d.io.read_point_cloud('../../3D-data/cropped_pcd_smaller_downsampled_and_filtered_rad20.ply')\n",
    "pc = o3d.io.read_point_cloud('../../3D-data/cropped_pcd_filtered_rad20_0p1_nopot.ply')\n",
    "pc = pc.uniform_down_sample(every_k_points=int(len(np.asarray(pc.points))/20000))\n",
    "print(len(np.asarray(pc.points)))\n",
    "o3d.visualization.draw_geometries([pc], window_name='t')"
   ]
  },
  {
   "cell_type": "code",
   "execution_count": 4,
   "id": "adapted-manual",
   "metadata": {},
   "outputs": [],
   "source": [
    "pc_colors = np.asarray(pc.colors)[:,0]\n",
    "pc_4D = np.c_[np.asarray(pc.points), pc_colors]  "
   ]
  },
  {
   "cell_type": "code",
   "execution_count": 5,
   "id": "complete-portland",
   "metadata": {
    "scrolled": true
   },
   "outputs": [
    {
     "name": "stdout",
     "output_type": "stream",
     "text": [
      "Sun Apr 18 18:19:20 2021\n",
      "0 0\n",
      "point cloud has 20205 clusters\n",
      "0 1\n",
      "point cloud has 0 clusters\n",
      "0 2\n",
      "point cloud has 0 clusters\n",
      "0 3\n",
      "point cloud has 0 clusters\n",
      "0 4\n",
      "point cloud has 0 clusters\n",
      "0 5\n",
      "point cloud has 0 clusters\n",
      "1 0\n",
      "point cloud has 20205 clusters\n",
      "1 1\n",
      "point cloud has 0 clusters\n",
      "1 2\n",
      "point cloud has 0 clusters\n",
      "1 3\n",
      "point cloud has 0 clusters\n",
      "1 4\n",
      "point cloud has 0 clusters\n",
      "1 5\n",
      "point cloud has 0 clusters\n",
      "2 0\n",
      "point cloud has 20037 clusters\n",
      "2 1\n",
      "point cloud has 168 clusters\n",
      "2 2\n",
      "point cloud has 0 clusters\n",
      "2 3\n",
      "point cloud has 0 clusters\n",
      "2 4\n",
      "point cloud has 0 clusters\n",
      "2 5\n",
      "point cloud has 0 clusters\n",
      "3 0\n",
      "point cloud has 171 clusters\n",
      "3 1\n",
      "point cloud has 85 clusters\n",
      "3 2\n",
      "point cloud has 43 clusters\n",
      "3 3\n",
      "point cloud has 35 clusters\n",
      "3 4\n",
      "point cloud has 27 clusters\n",
      "3 5\n",
      "point cloud has 23 clusters\n",
      "4 0\n",
      "point cloud has 3 clusters\n",
      "4 1\n",
      "point cloud has 3 clusters\n",
      "4 2\n",
      "point cloud has 3 clusters\n",
      "4 3\n",
      "point cloud has 3 clusters\n",
      "4 4\n",
      "point cloud has 3 clusters\n",
      "4 5\n",
      "point cloud has 2 clusters\n",
      "Sun Apr 18 18:19:36 2021\n"
     ]
    }
   ],
   "source": [
    "ls_cluster =[]\n",
    "print(time.asctime())\n",
    "for i in range(5):\n",
    "    for j in range(6):\n",
    "        print(i, j)\n",
    "        ls_cluster.append(dbscan_4D(pc, pc_4D, 10**(i-4), 2**j))\n",
    "print(time.asctime())"
   ]
  },
  {
   "cell_type": "code",
   "execution_count": 9,
   "id": "sixth-trunk",
   "metadata": {},
   "outputs": [
    {
     "name": "stdout",
     "output_type": "stream",
     "text": [
      "point cloud has 23 clusters\n"
     ]
    }
   ],
   "source": [
    "i=3\n",
    "j=5\n",
    "clustered_pc, labels = dbscan_4D(pc, pc_4D, 10**(i-4), 2**j, False)\n",
    "o3d.visualization.draw_geometries([clustered_pc], window_name='t')"
   ]
  },
  {
   "cell_type": "code",
   "execution_count": 15,
   "id": "potential-addition",
   "metadata": {},
   "outputs": [
    {
     "name": "stdout",
     "output_type": "stream",
     "text": [
      "[15 -1 -1 ...  3  1  8]\n",
      "\n",
      "[[0.96862745 0.71372549 0.82352941 1.        ]\n",
      " [0.         0.         0.         0.        ]\n",
      " [0.         0.         0.         0.        ]\n",
      " ...\n",
      " [1.         0.49803922 0.05490196 1.        ]\n",
      " [0.12156863 0.46666667 0.70588235 1.        ]\n",
      " [1.         0.59607843 0.58823529 1.        ]]\n"
     ]
    }
   ],
   "source": [
    "print(labels)\n",
    "max_label =labels.max()\n",
    "colors = plt.get_cmap(\"tab20\")(labels / (max_label if max_label > 0 else 1))\n",
    "colors[labels < 0] = 0\n",
    "print()\n",
    "print(colors)"
   ]
  }
 ],
 "metadata": {
  "kernelspec": {
   "display_name": "Python 3",
   "language": "python",
   "name": "python3"
  },
  "language_info": {
   "codemirror_mode": {
    "name": "ipython",
    "version": 3
   },
   "file_extension": ".py",
   "mimetype": "text/x-python",
   "name": "python",
   "nbconvert_exporter": "python",
   "pygments_lexer": "ipython3",
   "version": "3.8.5"
  }
 },
 "nbformat": 4,
 "nbformat_minor": 5
}
