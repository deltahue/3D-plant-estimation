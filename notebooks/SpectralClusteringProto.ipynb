{
 "cells": [
  {
   "cell_type": "code",
   "execution_count": 1,
   "id": "northern-fossil",
   "metadata": {},
   "outputs": [],
   "source": [
    "import open3d as o3d\n",
    "import numpy as np\n",
    "import sklearn as sk\n",
    "import matplotlib.pyplot as plt"
   ]
  },
  {
   "cell_type": "code",
   "execution_count": 2,
   "id": "unlimited-variety",
   "metadata": {},
   "outputs": [],
   "source": [
    "path = '../ShapeNet/plant.OBJ'\n",
    "path = '../data/processed/meshed/cropped_mesh.ply'\n",
    "path = '../../3D-data/cropped_mesh.ply'\n",
    "\n",
    "mesh = o3d.io.read_triangle_mesh(path)"
   ]
  },
  {
   "cell_type": "code",
   "execution_count": 3,
   "id": "conservative-equity",
   "metadata": {},
   "outputs": [],
   "source": [
    "def get_adj_deg_mtxs(mesh):\n",
    "    mesh.compute_adjacency_list()\n",
    "    ad_ls = mesh.adjacency_list\n",
    "    adj_mtx = np.zeros((len(ad_ls), len(ad_ls)), dtype=np.bool)\n",
    "    deg_mtx = np.zeros((len(ad_ls), len(ad_ls)), dtype=np.int16)\n",
    "    \n",
    "    for i, ad in enumerate(ad_ls):\n",
    "        deg_mtx[i,i] =  len(ad)\n",
    "        for el in ad:\n",
    "            adj_mtx[i,el]=1\n",
    "    return adj_mtx, deg_mtx\n",
    "            \n",
    "            \n",
    "    \n",
    "    "
   ]
  },
  {
   "cell_type": "code",
   "execution_count": 4,
   "id": "constant-oxygen",
   "metadata": {},
   "outputs": [
    {
     "ename": "MemoryError",
     "evalue": "Unable to allocate 292. GiB for an array with shape (559840, 559840) and data type bool",
     "output_type": "error",
     "traceback": [
      "\u001b[0;31m---------------------------------------------------------------------------\u001b[0m",
      "\u001b[0;31mMemoryError\u001b[0m                               Traceback (most recent call last)",
      "\u001b[0;32m<ipython-input-4-d347685d2288>\u001b[0m in \u001b[0;36m<module>\u001b[0;34m\u001b[0m\n\u001b[0;32m----> 1\u001b[0;31m \u001b[0mA\u001b[0m\u001b[0;34m,\u001b[0m \u001b[0mD\u001b[0m \u001b[0;34m=\u001b[0m \u001b[0mget_adj_deg_mtxs\u001b[0m\u001b[0;34m(\u001b[0m\u001b[0mmesh\u001b[0m\u001b[0;34m)\u001b[0m\u001b[0;34m\u001b[0m\u001b[0;34m\u001b[0m\u001b[0m\n\u001b[0m",
      "\u001b[0;32m<ipython-input-3-bf6ae4dcf0f4>\u001b[0m in \u001b[0;36mget_adj_deg_mtxs\u001b[0;34m(mesh)\u001b[0m\n\u001b[1;32m      2\u001b[0m     \u001b[0mmesh\u001b[0m\u001b[0;34m.\u001b[0m\u001b[0mcompute_adjacency_list\u001b[0m\u001b[0;34m(\u001b[0m\u001b[0;34m)\u001b[0m\u001b[0;34m\u001b[0m\u001b[0;34m\u001b[0m\u001b[0m\n\u001b[1;32m      3\u001b[0m     \u001b[0mad_ls\u001b[0m \u001b[0;34m=\u001b[0m \u001b[0mmesh\u001b[0m\u001b[0;34m.\u001b[0m\u001b[0madjacency_list\u001b[0m\u001b[0;34m\u001b[0m\u001b[0;34m\u001b[0m\u001b[0m\n\u001b[0;32m----> 4\u001b[0;31m     \u001b[0madj_mtx\u001b[0m \u001b[0;34m=\u001b[0m \u001b[0mnp\u001b[0m\u001b[0;34m.\u001b[0m\u001b[0mzeros\u001b[0m\u001b[0;34m(\u001b[0m\u001b[0;34m(\u001b[0m\u001b[0mlen\u001b[0m\u001b[0;34m(\u001b[0m\u001b[0mad_ls\u001b[0m\u001b[0;34m)\u001b[0m\u001b[0;34m,\u001b[0m \u001b[0mlen\u001b[0m\u001b[0;34m(\u001b[0m\u001b[0mad_ls\u001b[0m\u001b[0;34m)\u001b[0m\u001b[0;34m)\u001b[0m\u001b[0;34m,\u001b[0m \u001b[0mdtype\u001b[0m\u001b[0;34m=\u001b[0m\u001b[0mnp\u001b[0m\u001b[0;34m.\u001b[0m\u001b[0mbool\u001b[0m\u001b[0;34m)\u001b[0m\u001b[0;34m\u001b[0m\u001b[0;34m\u001b[0m\u001b[0m\n\u001b[0m\u001b[1;32m      5\u001b[0m     \u001b[0mdeg_mtx\u001b[0m \u001b[0;34m=\u001b[0m \u001b[0mnp\u001b[0m\u001b[0;34m.\u001b[0m\u001b[0mzeros\u001b[0m\u001b[0;34m(\u001b[0m\u001b[0;34m(\u001b[0m\u001b[0mlen\u001b[0m\u001b[0;34m(\u001b[0m\u001b[0mad_ls\u001b[0m\u001b[0;34m)\u001b[0m\u001b[0;34m,\u001b[0m \u001b[0mlen\u001b[0m\u001b[0;34m(\u001b[0m\u001b[0mad_ls\u001b[0m\u001b[0;34m)\u001b[0m\u001b[0;34m)\u001b[0m\u001b[0;34m,\u001b[0m \u001b[0mdtype\u001b[0m\u001b[0;34m=\u001b[0m\u001b[0mnp\u001b[0m\u001b[0;34m.\u001b[0m\u001b[0mint16\u001b[0m\u001b[0;34m)\u001b[0m\u001b[0;34m\u001b[0m\u001b[0;34m\u001b[0m\u001b[0m\n\u001b[1;32m      6\u001b[0m \u001b[0;34m\u001b[0m\u001b[0m\n",
      "\u001b[0;31mMemoryError\u001b[0m: Unable to allocate 292. GiB for an array with shape (559840, 559840) and data type bool"
     ]
    }
   ],
   "source": [
    "A, D = get_adj_deg_mtxs(mesh)"
   ]
  },
  {
   "cell_type": "code",
   "execution_count": 20,
   "id": "pressed-accreditation",
   "metadata": {},
   "outputs": [
    {
     "ename": "NameError",
     "evalue": "name 'adj_ls' is not defined",
     "output_type": "error",
     "traceback": [
      "\u001b[0;31m---------------------------------------------------------------------------\u001b[0m",
      "\u001b[0;31mNameError\u001b[0m                                 Traceback (most recent call last)",
      "\u001b[0;32m<ipython-input-20-18e7e89c38bd>\u001b[0m in \u001b[0;36m<module>\u001b[0;34m\u001b[0m\n\u001b[0;32m----> 1\u001b[0;31m \u001b[0mlen\u001b[0m\u001b[0;34m(\u001b[0m\u001b[0madj_ls\u001b[0m\u001b[0;34m)\u001b[0m\u001b[0;34m\u001b[0m\u001b[0;34m\u001b[0m\u001b[0m\n\u001b[0m",
      "\u001b[0;31mNameError\u001b[0m: name 'adj_ls' is not defined"
     ]
    }
   ],
   "source": [
    "len(adj_ls)"
   ]
  },
  {
   "cell_type": "code",
   "execution_count": 21,
   "id": "functional-mailing",
   "metadata": {},
   "outputs": [],
   "source": [
    "    mesh.compute_adjacency_list()\n",
    "    ad_ls = mesh.adjacency_list"
   ]
  },
  {
   "cell_type": "code",
   "execution_count": 23,
   "id": "trained-edmonton",
   "metadata": {},
   "outputs": [
    {
     "data": {
      "text/plain": [
       "905423"
      ]
     },
     "execution_count": 23,
     "metadata": {},
     "output_type": "execute_result"
    }
   ],
   "source": [
    "len(ad_ls)"
   ]
  },
  {
   "cell_type": "code",
   "execution_count": 30,
   "id": "increasing-shakespeare",
   "metadata": {},
   "outputs": [
    {
     "data": {
      "text/plain": [
       "array([[ 1.20654202, -1.57696915,  1.99949074],\n",
       "       [ 1.1950655 , -1.59717941,  1.99949074],\n",
       "       [ 1.21610451, -1.5622406 ,  1.99949074],\n",
       "       ...,\n",
       "       [ 2.03662682,  1.5753597 ,  7.90054607],\n",
       "       [ 2.03973579,  1.57888794,  7.90506697],\n",
       "       [ 2.05755806,  1.59246469,  7.92410421]])"
      ]
     },
     "execution_count": 30,
     "metadata": {},
     "output_type": "execute_result"
    }
   ],
   "source": [
    "np.asarray(mesh.vertices)"
   ]
  },
  {
   "cell_type": "code",
   "execution_count": 4,
   "id": "durable-scholar",
   "metadata": {},
   "outputs": [
    {
     "data": {
      "text/plain": [
       "TriangleMesh with 559840 points and 1113384 triangles."
      ]
     },
     "execution_count": 4,
     "metadata": {},
     "output_type": "execute_result"
    }
   ],
   "source": [
    "mesh.compute_adjacency_list()"
   ]
  },
  {
   "cell_type": "code",
   "execution_count": 7,
   "id": "christian-going",
   "metadata": {},
   "outputs": [
    {
     "data": {
      "text/plain": [
       "559840"
      ]
     },
     "execution_count": 7,
     "metadata": {},
     "output_type": "execute_result"
    }
   ],
   "source": [
    "len(mesh.adjacency_list)"
   ]
  },
  {
   "cell_type": "code",
   "execution_count": 8,
   "id": "marine-custody",
   "metadata": {},
   "outputs": [
    {
     "data": {
      "text/plain": [
       "250000000000"
      ]
     },
     "execution_count": 8,
     "metadata": {},
     "output_type": "execute_result"
    }
   ],
   "source": [
    "500000**2"
   ]
  },
  {
   "cell_type": "code",
   "execution_count": null,
   "id": "cellular-personal",
   "metadata": {},
   "outputs": [],
   "source": []
  }
 ],
 "metadata": {
  "kernelspec": {
   "display_name": "Python 3",
   "language": "python",
   "name": "python3"
  },
  "language_info": {
   "codemirror_mode": {
    "name": "ipython",
    "version": 3
   },
   "file_extension": ".py",
   "mimetype": "text/x-python",
   "name": "python",
   "nbconvert_exporter": "python",
   "pygments_lexer": "ipython3",
   "version": "3.8.5"
  }
 },
 "nbformat": 4,
 "nbformat_minor": 5
}
